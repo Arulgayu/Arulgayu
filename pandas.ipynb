{
  "cells": [
    {
      "cell_type": "markdown",
      "metadata": {
        "id": "view-in-github",
        "colab_type": "text"
      },
      "source": [
        "<a href=\"https://colab.research.google.com/github/Arulgayu/Arulgayu/blob/main/pandas.ipynb\" target=\"_parent\"><img src=\"https://colab.research.google.com/assets/colab-badge.svg\" alt=\"Open In Colab\"/></a>"
      ]
    },
    {
      "cell_type": "code",
      "execution_count": null,
      "metadata": {
        "id": "FM4EiUc_IUPv"
      },
      "outputs": [],
      "source": [
        "fruit =[\"mango\",\"apple\",\"chita\"]"
      ]
    },
    {
      "cell_type": "code",
      "execution_count": null,
      "metadata": {
        "colab": {
          "base_uri": "https://localhost:8080/"
        },
        "id": "2IoV_aW_FkgU",
        "outputId": "2518c8f1-bda9-4537-a218-6a06b24c6fd8"
      },
      "outputs": [
        {
          "data": {
            "text/plain": [
              "False"
            ]
          },
          "execution_count": 3,
          "metadata": {},
          "output_type": "execute_result"
        }
      ],
      "source": [
        "\"98989989\"==\"89898989\""
      ]
    },
    {
      "cell_type": "code",
      "source": [],
      "metadata": {
        "id": "CFgavewMvKsi"
      },
      "execution_count": null,
      "outputs": []
    },
    {
      "cell_type": "code",
      "source": [],
      "metadata": {
        "id": "tqljcJ2Av9iJ"
      },
      "execution_count": null,
      "outputs": []
    },
    {
      "cell_type": "code",
      "source": [],
      "metadata": {
        "id": "RLeYhAVGxgP0"
      },
      "execution_count": 1,
      "outputs": []
    },
    {
      "cell_type": "code",
      "execution_count": 2,
      "metadata": {
        "id": "esCWr1FHIsNE"
      },
      "outputs": [],
      "source": [
        "phone =[123456790,123456789,123458789,125436789,41223232,+12-6789]"
      ]
    },
    {
      "cell_type": "code",
      "execution_count": null,
      "metadata": {
        "colab": {
          "base_uri": "https://localhost:8080/"
        },
        "id": "XuhlF7meJnN5",
        "outputId": "1408964b-9c17-43e6-f9ed-00f62e7ef176"
      },
      "outputs": [
        {
          "data": {
            "text/plain": [
              "['1034']"
            ]
          },
          "execution_count": 20,
          "metadata": {},
          "output_type": "execute_result"
        }
      ],
      "source": [
        "\n",
        "\n",
        "import re\n",
        "\n",
        "\n",
        "pattern = re.compile(r'\\b\\d{4}\\b' )\n",
        "\n",
        "pattern.findall(phone[0])"
      ]
    },
    {
      "cell_type": "code",
      "source": [],
      "metadata": {
        "id": "nRJAWfsUx6YC"
      },
      "execution_count": null,
      "outputs": []
    },
    {
      "cell_type": "code",
      "execution_count": null,
      "metadata": {
        "id": "l_Mw2jGyQXMi"
      },
      "outputs": [],
      "source": [
        "Email=[\"guvi@gmail.com\",\"arul1090@gmail.com\",\"selvi@gmail.com\"]"
      ]
    },
    {
      "cell_type": "code",
      "execution_count": null,
      "metadata": {
        "colab": {
          "base_uri": "https://localhost:8080/"
        },
        "id": "W6kLoWIYQYX_",
        "outputId": "5b86da53-6e85-4bff-aaa1-539e6f5bbcdd"
      },
      "outputs": [
        {
          "data": {
            "text/plain": [
              "['arul1090@gmail.com']"
            ]
          },
          "execution_count": 32,
          "metadata": {},
          "output_type": "execute_result"
        }
      ],
      "source": [
        "Email_pattern = re.compile(r'\\b[A-Za-z0-9._%+-]+@[A-Za-z0-9.-]+\\.[A-Za-z]{3,}\\b')\n",
        "\n",
        "Email_pattern.findall(\"arul1090@gmail.com\")"
      ]
    },
    {
      "cell_type": "code",
      "execution_count": null,
      "metadata": {
        "id": "IZCVgp0UePBU"
      },
      "outputs": [],
      "source": [
        "class\n"
      ]
    },
    {
      "cell_type": "code",
      "execution_count": null,
      "metadata": {
        "id": "ilcjFL8feRuY"
      },
      "outputs": [],
      "source": []
    },
    {
      "cell_type": "code",
      "execution_count": null,
      "metadata": {
        "colab": {
          "base_uri": "https://localhost:8080/"
        },
        "id": "SXd_H62nUJ_m",
        "outputId": "8faaf737-3dd5-4f66-ba40-99df089874af"
      },
      "outputs": [
        {
          "data": {
            "text/plain": [
              "['arul1090@gmail.com']"
            ]
          },
          "execution_count": 36,
          "metadata": {},
          "output_type": "execute_result"
        }
      ],
      "source": [
        "Email_pattern.findall(\"arul1090@gmail.com\")"
      ]
    },
    {
      "cell_type": "code",
      "execution_count": 1,
      "metadata": {
        "id": "aelQTvrr-KIA"
      },
      "outputs": [],
      "source": []
    },
    {
      "cell_type": "code",
      "execution_count": 1,
      "metadata": {
        "id": "5-5UIaU-eSqe"
      },
      "outputs": [],
      "source": []
    }
  ],
  "metadata": {
    "colab": {
      "provenance": [],
      "authorship_tag": "ABX9TyPpU3abrur0ACRoY0ixvsdn",
      "include_colab_link": true
    },
    "kernelspec": {
      "display_name": "Python 3",
      "name": "python3"
    },
    "language_info": {
      "name": "python"
    }
  },
  "nbformat": 4,
  "nbformat_minor": 0
}